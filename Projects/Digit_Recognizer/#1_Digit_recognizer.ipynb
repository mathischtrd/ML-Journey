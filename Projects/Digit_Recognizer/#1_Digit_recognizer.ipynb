{
 "cells": [
  {
   "cell_type": "markdown",
   "id": "84d03dbf",
   "metadata": {},
   "source": [
    "# Digit Recognizer with torch\n",
    "Objectif : Prendre en main la librairie PyTorch afin d'entrainer et de valider un modèle sur la reconnaissance d'écriture de chiffres entre 0 et 9"
   ]
  },
  {
   "cell_type": "code",
   "execution_count": 29,
   "id": "6e8cb198",
   "metadata": {},
   "outputs": [],
   "source": [
    "from torchvision import datasets, transforms\n",
    "import torch.nn.functional as F\n",
    "import matplotlib.pyplot as plt"
   ]
  },
  {
   "cell_type": "markdown",
   "id": "545885b9",
   "metadata": {},
   "source": [
    "## Récupération des données\n",
    "\n",
    "- Utilisation du module datasets de torchvision pour obtenir les images des chiffres écrits à la main\n",
    "- Division du datasets en données \"d'entrainement\" et données de \"test\"\n",
    "- Séparation en batch pour faciliter la convergence "
   ]
  },
  {
   "cell_type": "code",
   "execution_count": 30,
   "id": "1cc3cd6a",
   "metadata": {},
   "outputs": [],
   "source": [
    "# Transform each image into tensor and normalized with mean and std\n",
    "transform = transforms.Compose([transforms.ToTensor(), transforms.Normalize((0.1307,), (0.3081,))])\n",
    "\n",
    "# Define the batch size used each time we go through the dataset\n",
    "batch_size = 32\n",
    "\n",
    "# Set the training loader\n",
    "train_loader = torch.utils.data.DataLoader(datasets.MNIST('../data', train=True, download=True, transform=transform), batch_size=batch_size, shuffle=True)\n",
    "# Set the testing loader\n",
    "test_loader = torch.utils.data.DataLoader(datasets.MNIST('../data', train=False, download=True, transform=transform), batch_size=batch_size, shuffle=True)"
   ]
  },
  {
   "cell_type": "markdown",
   "id": "229c017b",
   "metadata": {},
   "source": [
    "## Visualisation des données sous forme d'image "
   ]
  },
  {
   "cell_type": "code",
   "execution_count": 46,
   "id": "3f3e4599",
   "metadata": {},
   "outputs": [
    {
     "data": {
      "image/png": "[encoded data removed]",
      "text/plain": [
       "<Figure size 640x480 with 1 Axes>"
      ]
     },
     "metadata": {},
     "output_type": "display_data"
    }
   ],
   "source": [
    "data_iter = iter(test_loader)\n",
    "data, targets = next(data_iter)\n",
    "plt.imshow(data[0].view(28, 28), cmap=\"gray\")\n",
    "plt.title(\"Target : {}\".format(targets[0]))\n",
    "plt.show()"
   ]
  },
  {
   "cell_type": "markdown",
   "id": "921ac26b",
   "metadata": {},
   "source": [
    "## Entrainement du modèle \n",
    " - Initialisation des poids (1 poids pour chaque pixel)\n",
    " - Réseau de neurones linéaires : entrées=784 | sortie=10\n",
    " - Utilisation de la fonction d'activation : log_softmax\n",
    " - Calcul de la perte avec NLL (Négative Log Likelyhood)"
   ]
  },
  {
   "cell_type": "code",
   "execution_count": 31,
   "id": "0f9c57ab",
   "metadata": {},
   "outputs": [],
   "source": [
    "## Init weights\n",
    "# 784 because there is 784 pixels in each image\n",
    "# 10 because there is 10 possible outputs : 0,1,2,3,4,5,6,7,8,9\n",
    "# Each pixel is linked to 10 outputs where each link is a weight to optimize\\\n",
    "# <=> Each class is linked to 784 pixel where each link is a weight to optimize\n",
    "weights = torch.randn(784, 10, requires_grad=True)"
   ]
  },
  {
   "cell_type": "code",
   "execution_count": 41,
   "id": "fb05bb16",
   "metadata": {},
   "outputs": [
    {
     "name": "stdout",
     "output_type": "stream",
     "text": [
      "Batch ID : 1874 , Loss shape: 412.03149414062555-09"
     ]
    }
   ],
   "source": [
    "it=0\n",
    "\n",
    "for batch_idx, (data,targets) in enumerate(train_loader):\n",
    "    # Be sure to start the loop with zeros grad\n",
    "    if weights.grad is not None:\n",
    "        weights.grad.zero_()\n",
    "        \n",
    "    data=data.view(-1,28*28) #Transformation d'une matrice 28x28 par une array de 784 valeurs \n",
    "\n",
    "    outputs=torch.matmul(data,weights) #Multiplication matricielle de data [32,784] par weights [784,10]\n",
    "    \n",
    "    log_softmax = F.log_softmax(outputs, dim=1)\n",
    "    \n",
    "    loss = F.nll_loss(log_softmax, targets)\n",
    "    print(\"\\rBatch ID : {} , Loss shape: {}\".format(batch_idx,loss), end=\"\")\n",
    "    \n",
    "    # Compute the gradients for each variables\n",
    "    loss.backward()\n",
    "    \n",
    "    with torch.no_grad():\n",
    "        weights -= 0.1*weights.grad\n",
    "        \n",
    "    it += 1\n",
    "    \n",
    "    if it > 5000:\n",
    "        break"
   ]
  },
  {
   "cell_type": "markdown",
   "id": "a60fdec5",
   "metadata": {},
   "source": [
    "## Validation des poids du modèle sur les données de test\n",
    "- Utilisation de batchs \n",
    "- test des poids obtenus lors de l'entrainement \n",
    "- Calcul de la précision globale du modèle"
   ]
  },
  {
   "cell_type": "code",
   "execution_count": 51,
   "id": "280d0549",
   "metadata": {},
   "outputs": [
    {
     "name": "stdout",
     "output_type": "stream",
     "text": [
      " Accuracy on test set 0.8923\n"
     ]
    }
   ],
   "source": [
    "def test(weights, test_loader):\n",
    "    test_size = len(test_loader.dataset)\n",
    "    correct = 0\n",
    "\n",
    "    for batch_idx, (data, target) in enumerate(test_loader):\n",
    "        #print(batch_idx, data.shape, target.shape)\n",
    "        data = data.view((-1, 28*28))\n",
    "\n",
    "        outputs = torch.matmul(data, weights) \n",
    "        softmax = F.softmax(outputs, dim=1) #Convert outputs into probability between 0 and 1 \n",
    "        pred = softmax.argmax(dim=1, keepdim=True) #Get the digit with the max probability from softmax function\n",
    "        n_correct = pred.eq(target.view_as(pred)).sum().item() #count the number of good predictions in the batch\n",
    "        correct += n_correct\n",
    "\n",
    "    acc = correct / test_size #Computation of accuracy\n",
    "    print(\" Accuracy on test set\", acc)\n",
    "    return\n",
    "\n",
    "test(weights, test_loader)"
   ]
  },
  {
   "cell_type": "markdown",
   "id": "e386146d",
   "metadata": {},
   "source": [
    "Model created by Thibault Neveu\n",
    "https://www.youtube.com/watch?v=wqpejMj3wTo&list=RDCMUCVso5UVvQeGAuwbksmA95iA&index=2"
   ]
  },
  {
   "cell_type": "code",
   "execution_count": null,
   "id": "b98090c6",
   "metadata": {},
   "outputs": [],
   "source": []
  }
 ],
 "metadata": {
  "kernelspec": {
   "display_name": "Python 3 (ipykernel)",
   "language": "python",
   "name": "python3"
  },
  "language_info": {
   "codemirror_mode": {
    "name": "ipython",
    "version": 3
   },
   "file_extension": ".py",
   "mimetype": "text/x-python",
   "name": "python",
   "nbconvert_exporter": "python",
   "pygments_lexer": "ipython3",
   "version": "3.10.14"
  }
 },
 "nbformat": 4,
 "nbformat_minor": 5
}
